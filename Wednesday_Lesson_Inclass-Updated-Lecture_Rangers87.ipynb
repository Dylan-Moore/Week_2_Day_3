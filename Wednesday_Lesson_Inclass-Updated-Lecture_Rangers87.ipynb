{
 "cells": [
  {
   "cell_type": "markdown",
   "metadata": {},
   "source": [
    "# Dictionaries, Sets, & Importing Modules"
   ]
  },
  {
   "cell_type": "markdown",
   "metadata": {},
   "source": [
    "## Tasks Today:\n",
    "\n",
    "1) Dictionary <br>\n",
    " &nbsp;&nbsp;&nbsp;&nbsp; a) Declaring (key, value) <br>\n",
    " &nbsp;&nbsp;&nbsp;&nbsp; b) Accessing Values <br>\n",
    " &nbsp;&nbsp;&nbsp;&nbsp; ------ Exercise #1 - Print the eye color of each person in a double nested dict <br>\n",
    " &nbsp;&nbsp;&nbsp;&nbsp; c) Adding New Pairs <br>\n",
    " &nbsp;&nbsp;&nbsp;&nbsp; d) Modifying Values <br>\n",
    " &nbsp;&nbsp;&nbsp;&nbsp; e) Removing Key, Value Pairs <br>\n",
    " &nbsp;&nbsp;&nbsp;&nbsp; f) Looping a Dictionary <br>\n",
    " &nbsp;&nbsp;&nbsp;&nbsp; g) Looping Only Keys <br>\n",
    " &nbsp;&nbsp;&nbsp;&nbsp; h) Looping Only Values <br>\n",
    " &nbsp;&nbsp;&nbsp;&nbsp; ------ Exercise #2 - Create a Function that Prints All Key Value Pairs within a print .format()  <br>\n",
    " &nbsp;&nbsp;&nbsp;&nbsp; i) sorted() <br>\n",
    " &nbsp;&nbsp;&nbsp;&nbsp; j) Lists with Dictionaries <br>\n",
    " &nbsp;&nbsp;&nbsp;&nbsp; k) Dictionaries with Lists <br>\n",
    " &nbsp;&nbsp;&nbsp;&nbsp; l) Dictionaries with Dictionaries <br>\n",
    " &nbsp;&nbsp;&nbsp;&nbsp; ------ Exercise #3 - Write a Function that asks someone's name and address, and then stores that into a dictionary, which prints all names and addresses after they're done putting information in...  <br>\n",
    "2) Dictionaries vs. Lists (over time)<br>\n",
    "3) Set <br>\n",
    " &nbsp;&nbsp;&nbsp;&nbsp; a) Declaring <br>\n",
    " &nbsp;&nbsp;&nbsp;&nbsp; b) .add() <br>\n",
    " &nbsp;&nbsp;&nbsp;&nbsp; c) .remove() <br>\n",
    " &nbsp;&nbsp;&nbsp;&nbsp; d) .union() <br>\n",
    " &nbsp;&nbsp;&nbsp;&nbsp; e) .intersection() <br>\n",
    " &nbsp;&nbsp;&nbsp;&nbsp; f) .difference() <br>\n",
    " &nbsp;&nbsp;&nbsp;&nbsp; g) Frozen Set <br>\n",
    "4) Modules <br>\n",
    " &nbsp;&nbsp;&nbsp;&nbsp; a) Importing Entire Modules <br>\n",
    " &nbsp;&nbsp;&nbsp;&nbsp; b) Importing Methods Only <br>\n",
    " &nbsp;&nbsp;&nbsp;&nbsp; c) Using the 'as' Keyword <br>\n",
    " &nbsp;&nbsp;&nbsp;&nbsp; d) Creating a Module <br>\n",
    "5) Exercises <br>\n",
    " &nbsp;&nbsp;&nbsp;&nbsp; a) Build a Shopping Cart <br>\n",
    " &nbsp;&nbsp;&nbsp;&nbsp; b) Create Your Own Module <br>"
   ]
  },
  {
   "cell_type": "markdown",
   "metadata": {},
   "source": [
    "## Dictionary <br>\n",
    "<p>A collection of data with 'key:value' pairs. Dictionaries are ordered as of Python 3.6</p>"
   ]
  },
  {
   "cell_type": "markdown",
   "metadata": {},
   "source": [
    "##### Declaring (key, value)"
   ]
  },
  {
   "cell_type": "code",
   "execution_count": null,
   "metadata": {},
   "outputs": [],
   "source": [
    "# keys should be unique\n",
    "# can use numbers or strings as keys\n",
    "#lists(), tuples(), dict(), set()\n",
    "d_1 = {}\n",
    "#or\n",
    "d_2 = dict()\n",
    "#or\n",
    "d_3 = {\n",
    "    \"Tom\":\"255 Main Street\",\n",
    "    \"Jerry\": \"256 Main Street\",\n",
    "    0: \"This is a value of 0 for the key 0\"\n",
    "}"
   ]
  },
  {
   "cell_type": "markdown",
   "metadata": {},
   "source": [
    "##### Accessing Values"
   ]
  },
  {
   "cell_type": "code",
   "execution_count": null,
   "metadata": {},
   "outputs": [],
   "source": [
    "# dict[key]\n",
    "print(d_3[\"Jerry\"])\n",
    "#can't index into dictionary unless dictionary is in list or list is in dictionary\n",
    "print(d_3[0])\n",
    "\n",
    "tom_address = d_3[\"Tom\"]\n",
    "print(tom_address)\n",
    "\n",
    "d_4 = {\n",
    "    \"Luke\":\"Lightsaber\",\n",
    "    \"Han\": \"Pistol\",\n",
    "    \"Chewbacca\": \"Bowcaster\"\n",
    "    \n",
    "}\n",
    "\n",
    "luke_weapon = d_4['Luke']\n",
    "print(luke_weapon)\n",
    "print(d_4['Han'])"
   ]
  },
  {
   "cell_type": "markdown",
   "metadata": {},
   "source": [
    "## In-Class Exercise #1 - Print a formatted statement from the dictionary below <br>\n",
    "<p>The output should be '2018 Chevrolet Silverado'</p>"
   ]
  },
  {
   "cell_type": "code",
   "execution_count": null,
   "metadata": {},
   "outputs": [],
   "source": [
    "# use the dict below\n",
    "truck = {\n",
    "    \"year\": 2018,\n",
    "    'make': 'Chevrolet',\n",
    "    'model': 'Silverado'\n",
    "}\n",
    "truck_year = str(truck['year'])\n",
    "truck_make = truck['make']\n",
    "truck_model = truck['model']\n",
    "print(f\"The truck is a \" + str(truck['year']) + ' ' + truck['make'] + ' ' + truck['model'] )\n",
    "print(f\"The truck is a \" + truck_year + ' ' + truck_make + ' ' + truck_model)\n"
   ]
  },
  {
   "cell_type": "markdown",
   "metadata": {},
   "source": [
    "##### Adding New Pairs"
   ]
  },
  {
   "cell_type": "code",
   "execution_count": null,
   "metadata": {},
   "outputs": [],
   "source": [
    "# dict[key] = value\n",
    "\n",
    "d_4 = {\n",
    "    \"Luke\":\"Lightsaber\",\n",
    "    \"Han\": \"Pistol\",\n",
    "    \"Chewbacca\": \"Bowcaster\"\n",
    "    \n",
    "}\n",
    "d_4[\"Leia\"]=\"E11 Carbine\"\n",
    "print(d_4)"
   ]
  },
  {
   "cell_type": "markdown",
   "metadata": {},
   "source": [
    "##### Modifying Values"
   ]
  },
  {
   "cell_type": "code",
   "execution_count": null,
   "metadata": {},
   "outputs": [],
   "source": [
    "# dict[key] = value\n",
    "placeholder = d_4[\"Leia\"]\n",
    "print(placeholder)\n",
    "\n",
    "d_4[\"Leia\"] = d_4[\"Leia\"] + \" with a strap\"\n",
    "\n",
    "d_4"
   ]
  },
  {
   "cell_type": "code",
   "execution_count": null,
   "metadata": {},
   "outputs": [],
   "source": [
    "# d_4[\"Leia\"] = \"Lightsaber\"\n",
    "# d_4"
   ]
  },
  {
   "cell_type": "markdown",
   "metadata": {},
   "source": [
    "##### Removing Key, Value Pairs"
   ]
  },
  {
   "cell_type": "code",
   "execution_count": null,
   "metadata": {},
   "outputs": [],
   "source": [
    "# del dict[key]\n",
    "\n",
    "# del d_4[\"Han\"]\n",
    "\n",
    "d_4"
   ]
  },
  {
   "cell_type": "markdown",
   "metadata": {},
   "source": [
    "##### Looping a Dictionary"
   ]
  },
  {
   "cell_type": "code",
   "execution_count": null,
   "metadata": {},
   "outputs": [],
   "source": [
    "d_3 = {\n",
    "    \"tom\":\"255 Main Street\",\n",
    "    \"jerry\": \"256 Main Street\",\n",
    "    \"spike\": \"257 Main Street\",\n",
    "    \"tyke\": \"257 Mainstreet\"\n",
    "}\n",
    "for pet, address in d_3.items():\n",
    "    print(f\"{pet.title()} lives at {address}\")"
   ]
  },
  {
   "cell_type": "code",
   "execution_count": null,
   "metadata": {},
   "outputs": [],
   "source": [
    "# .items()\n",
    "# a, b, c = 1, 2, 3\n",
    "\n",
    "for hero, weapon in d_4.items():\n",
    "    print(f\"{hero} uses a {weapon}\")"
   ]
  },
  {
   "cell_type": "markdown",
   "metadata": {},
   "source": [
    "##### Looping Only Keys"
   ]
  },
  {
   "cell_type": "code",
   "execution_count": null,
   "metadata": {},
   "outputs": [],
   "source": [
    "# .keys()\n",
    "\n",
    "for key in d_4.keys():\n",
    "    print(key)\n",
    "print(\"\\n\")\n",
    "    \n",
    "for key in d_3.keys():\n",
    "    print(key.title())\n",
    "    \n",
    "print(\"\\n\")\n",
    "name_list = [key.title() for key in d_3.keys()]\n",
    "print(name_list)"
   ]
  },
  {
   "cell_type": "code",
   "execution_count": null,
   "metadata": {},
   "outputs": [],
   "source": [
    "#looping through keys without .keys()\n",
    "\n",
    "for key in d_3:\n",
    "    print(key.title())"
   ]
  },
  {
   "cell_type": "markdown",
   "metadata": {},
   "source": [
    "##### Looping Only Values"
   ]
  },
  {
   "cell_type": "code",
   "execution_count": null,
   "metadata": {},
   "outputs": [],
   "source": []
  },
  {
   "cell_type": "code",
   "execution_count": null,
   "metadata": {
    "scrolled": false
   },
   "outputs": [],
   "source": []
  },
  {
   "cell_type": "code",
   "execution_count": null,
   "metadata": {
    "scrolled": true
   },
   "outputs": [],
   "source": [
    "# .values()\n",
    "\n",
    "value_list = [val.title() for val in d_3.values()]\n",
    "print(value_list)"
   ]
  },
  {
   "cell_type": "markdown",
   "metadata": {},
   "source": [
    "## In-Class Exercise #2 - Create a Function that Prints All Key Value Pairs within a print .format() <br>\n",
    "<p><b>Output should be:</b><br>\n",
    "Max has blue eyes<br>\n",
    "Lilly has brown eyes<br>\n",
    "Barney has blue eyes<br>\n",
    "etc.\n",
    "</p>"
   ]
  },
  {
   "cell_type": "code",
   "execution_count": null,
   "metadata": {},
   "outputs": [],
   "source": [
    "# use the dict below\n",
    "people = {\n",
    "    'Max': 'blue',\n",
    "    'Lilly': 'brown',\n",
    "    'Barney': 'blue',\n",
    "    'Larney': 'brown',\n",
    "    'Ted': 'purple',\n",
    "    'Sasuke': 'sharingan'\n",
    "}\n",
    "\n",
    "people_lst = [key.title() for key in people.keys()]\n",
    "print(people_lst)\n",
    "for person, color in people.items():\n",
    "    print(f\"{person}  has  {color}  eyes.\")"
   ]
  },
  {
   "cell_type": "markdown",
   "metadata": {},
   "source": [
    "##### sorted()"
   ]
  },
  {
   "cell_type": "code",
   "execution_count": null,
   "metadata": {},
   "outputs": [],
   "source": [
    "# sorts variables in order\n",
    "# sorted(dict.values()) or dict.keys() or dict.items()\n",
    "\n",
    "print(sorted(people.keys()))\n",
    "print(sorted(people.values()))\n",
    "print(sorted(people.items()))"
   ]
  },
  {
   "cell_type": "markdown",
   "metadata": {},
   "source": [
    "##### List with Dictionaries"
   ]
  },
  {
   "cell_type": "code",
   "execution_count": null,
   "metadata": {},
   "outputs": [],
   "source": [
    "names = [\"Dave\", \"Sandy\", \"Tony\", {\"some_lady\": \"Barb\", \"some_guy\":\"Rob\"}]\n",
    "\n",
    "print(names[3][\"some_guy\"])\n",
    "print(\"\\n\")\n",
    "# sample_date = [{\n",
    "# },\n",
    "# {\n",
    "    \n",
    "# },\n",
    "# {\n",
    "\n",
    "# }]\n",
    "\n",
    "for key in names[3].keys():\n",
    "    print(key)"
   ]
  },
  {
   "cell_type": "code",
   "execution_count": null,
   "metadata": {},
   "outputs": [],
   "source": [
    "#adding to a dictionary within a list\n",
    "names[3][\"another_dude\"] = \"Phyllis\"\n",
    "print(names[3])\n",
    "\n",
    "#appending to a list within a list\n",
    "names2 = [\"Dylan\", \"Beck\", \"Alex\", \"Jason\",[\"Cecilia\",\"Nick\",\"Julia\"]]\n",
    "names2[4].append(\"Badar\")\n",
    "print(names2)"
   ]
  },
  {
   "cell_type": "markdown",
   "metadata": {},
   "source": [
    "##### Dictionaries with Lists"
   ]
  },
  {
   "cell_type": "code",
   "execution_count": null,
   "metadata": {},
   "outputs": [],
   "source": [
    "# be careful when using numbers as keys in dictionaries, don't confuse them with indexes\n",
    "\n",
    "random_data = {\n",
    "    \"list_1\":[54,69,90],\n",
    "    \"2\" : [\"Johnson\"]\n",
    "}\n",
    "print(random_data[\"2\"][0])\n",
    "for val in random_data[\"list_1\"]:\n",
    "    print(val)"
   ]
  },
  {
   "cell_type": "markdown",
   "metadata": {},
   "source": [
    "##### Dictionaries with Dictionaries"
   ]
  },
  {
   "cell_type": "code",
   "execution_count": null,
   "metadata": {},
   "outputs": [],
   "source": [
    "# to get values, must traverse through keys\n",
    "\n",
    "# to get values, must traverse through keys\n",
    "\n",
    "\n",
    "\n",
    "food_dict = {\n",
    "    \"Ryan\": {\n",
    "    \"mexican\": [\"Tacos\", \"Tacos\", \"Tacos\", \"Torta\"],\n",
    "    \"noodles\": [\"Ramen\", \"shell\", \"ravioli\"],\n",
    "     \"desserts\": [\"pie\", \"chocolate chip ice cream\", \"cheesecake\"]   \n",
    "},\n",
    "    'Alex': {\n",
    "    'hispanic': ['Pupusas', 'Tamales', 'Arepas'],\n",
    "    'italian' : ['Lasagna', 'Spaghetti', 'Pizza'],\n",
    "    'sweets': ['Ice Cream', 'Canolis', 'Soufle']\n",
    "},\n",
    "    \"Saad\": {\n",
    "    \"italian\": [\"pasta\", \"pizza\", \"seafood\"],\n",
    "    \"pizza\": [\"plain\", \"margarita\", \"pineapple\", \"chicken\"]\n",
    "},\n",
    "    \"Beck\": {\n",
    "        \"japanese\" : [\"sushi\", \"ramen\", \"dumplings\"],\n",
    "        \"desserts\" : [\"cookie dough\", \"ice cream\", \"cheesecake\"],\n",
    "        \"italian\" : [\"pizza\", \"pasta\", \"gelato\"]\n",
    "\n",
    "    },\n",
    "    \"Dylan\":{\n",
    "        \"Asian\":[\"Pho\", \"Korean Beef\", \"Gyoza\", \"Sushi\", \"Ramen\"],\n",
    "        \"Mexican\":[\"Tacos\", \"Poblano Peppers\", \"Tamales\"],\n",
    "        \"Italian\":[\"Pizza\", \"Spaghetti\"],\n",
    "    },\n",
    "    \"Julia\": {\n",
    "    \"italian\":[\"pizza\", \"bolognese\"],\n",
    "    \"vietnamese\":[\"bhan mi\", \"pho\"],\n",
    "    \"mexican\":[\"tacos al pastor\", \"tortas\"]\n",
    "},\n",
    "    \"Cecilia\": {\n",
    "    \"breakfast\": [\"pancakes\", \"bacon\", \"hashbrowns\", \"eggs\"],\n",
    "    \"bbq\": [\"ribs\", \"brisket\", \"pulled pork\", \"wings\"],\n",
    "    \"pie\": [\"strawberry rhubarb\", \"peanut butter\", \"pumpkin\"]\n",
    "},\n",
    "    \"Badar\": {\n",
    "        \"Desert\": [\"Jello\", \"Cookies\", \"Pie\"],\n",
    "        \"Lunch\": [\"Turkey Sandwich\", \"Pizza\", \"Deli\"]\n",
    "},\n",
    "    \"Nick\":{\n",
    "        \"Italian\":[\"Pizza\", \"Pasta\", \"Bolognese\"],\n",
    "        \"Hispanic\":[\"Bolon de queso\", \"Chilaquiles\", \"encebollado\"],\n",
    "        \"Asian\":[\"Ramen\", \"More Ramen\", \"Sushi\", \"Also Ramen\"]\n",
    "},\n",
    "    \"Jason\":\n",
    "    {\"italian\": [\"pizza\",  \"bbq\",  \"chinese\"]},\n",
    "    \n",
    "     \"Chris\": {\n",
    "        \"sushi\": ['roll', 'sushimi', 'nigiri'],\n",
    "        \"dessert\": ['chocolate', 'brownie', 'thinmints']\n",
    "}\n",
    "\n",
    "}\n",
    "\n",
    "print(food_dict)"
   ]
  },
  {
   "cell_type": "code",
   "execution_count": null,
   "metadata": {},
   "outputs": [],
   "source": [
    "ryan_desserts = food_dict[\"Ryan\"][\"desserts\"]\n",
    "print(ryan_desserts)\n",
    "Saad_pizza_topping = food_dict[\"Saad\"][\"pizza\"][2]\n",
    "print(Saad_pizza_topping)\n",
    "for i in food_dict[\"Cecilia\"][\"breakfast\"]:\n",
    "    print(i)\n"
   ]
  },
  {
   "cell_type": "code",
   "execution_count": null,
   "metadata": {},
   "outputs": [],
   "source": [
    "# with our food dict:\n",
    "    #1. Bring back all the dictionaries within dictionary\n",
    "    #2. Bring back all the items in a list\n",
    "    #3.Access specific items inside the list\n",
    "    #4. Print a formatted string with your/or somebody else's favorite types of food\n",
    "    "
   ]
  },
  {
   "cell_type": "code",
   "execution_count": null,
   "metadata": {},
   "outputs": [],
   "source": [
    "# print(food_dict)\n",
    "# print(\"\\n\")\n",
    "# print(food_dict.values())\n",
    "\n",
    "print(\"\\n\")\n",
    "print(food_dict.keys())\n",
    "print(\"\\n\")\n",
    "for i in food_dict[\"Dylan\"][\"Asian\"]:\n",
    "    print(i)\n",
    "print(\"\\n\")\n",
    "Dylan_food = food_dict[\"Dylan\"][\"Asian\"][1]\n",
    "print(Dylan_food)\n",
    "print(\"\\n\")\n",
    "# for person, food in food_dict.items():\n",
    "#     print(f\"{person}'s favorite  {food.keys()} food is {food.values()}. \\n\")\n",
    "print(f\"Dylan's favorite food is {food_dict['Dylan']['Asian'][0]}\")\n",
    "# for i in food_dict.keys():\n",
    "#     print(f\"{i} favorite {food_dict.values()}\")"
   ]
  },
  {
   "cell_type": "markdown",
   "metadata": {},
   "source": [
    "## Dictionaries vs. Lists (over time) Example of RUNTIME\n",
    "### When inputting values in a Dictionary vs List"
   ]
  },
  {
   "cell_type": "code",
   "execution_count": null,
   "metadata": {},
   "outputs": [],
   "source": [
    " "
   ]
  },
  {
   "cell_type": "code",
   "execution_count": null,
   "metadata": {},
   "outputs": [],
   "source": []
  },
  {
   "cell_type": "markdown",
   "metadata": {},
   "source": [
    "## Exercise #3 - Write a Function that asks someone's name and address, and then stores that into a dictionary, and continues to do so until they choose to 'quit'. Once they quit, the program should print all names and addresses. <br>\n",
    "<p>\n",
    "<b>Proper steps:</b><br>\n",
    "step 1: write a function that takes in information and stores it in a dictionary<br>\n",
    "step 2: define an empty dictionary to work with<br>\n",
    "step 3: create our loop, which asks the user for information until they quit<br>\n",
    "step 4: ask for the information, and store it into variables<br>\n",
    "step 5: check if the user types quit<br>\n",
    "step 5a: print out all information<br>\n",
    "step 5b: break out of the loop<br>\n",
    "step 6: if they didn't quit, add the information to the dictionary<br>\n",
    "step 7: invoke the function by calling it\n",
    "</p>"
   ]
  },
  {
   "cell_type": "code",
   "execution_count": null,
   "metadata": {},
   "outputs": [],
   "source": [
    "from IPython.display import clear_output\n",
    "\n",
    "# Step 1\n",
    "def storeInfo():\n",
    "    #step 2\n",
    "    \n",
    "    d = {}\n",
    "    #Step 3\n",
    "    while True: \n",
    "        # step 4\n",
    "        name = input('Enter a name or say \"quit\" to quit: ') \n",
    "        address = input(\"Enter your address or say 'quit' to quit.\")      \n",
    "        clear_output()\n",
    "            \n",
    "        #step 5\n",
    "        if name.lower() == \"quit\" or address.lower() == \"quit\":\n",
    "            #step 5a\n",
    "            for key, value in d.items():\n",
    "                print(f\"The address for {key} is {value}.\")\n",
    "            break #step 5b\n",
    "                \n",
    "        d[name] = address\n",
    "       \n",
    "        \n",
    "storeInfo()\n"
   ]
  },
  {
   "cell_type": "markdown",
   "metadata": {},
   "source": [
    "## Set <br>\n",
    "<p>A Set is an unordered collection data type that is iterable (loop), mutable, and has no duplicate elements.<br>Major advantage is that it is highly optimized in checking if something is in the set, as opposed to checking if something is in a list.</p>"
   ]
  },
  {
   "cell_type": "markdown",
   "metadata": {},
   "source": [
    "##### Declaring"
   ]
  },
  {
   "cell_type": "code",
   "execution_count": null,
   "metadata": {},
   "outputs": [],
   "source": [
    "# set() or {}\n",
    "# no order {3, 2, 1} outputs as {1, 2, 3}\n",
    "\n",
    "nums = {4,1,8,4,4,4,4}\n",
    "print(nums)\n",
    "\n",
    "print(len(nums))\n",
    "\n",
    "our_list = [1,2,3,4,4,4,4,5]\n",
    "\n",
    "our_set = set(our_list)\n",
    "print(our_set)\n",
    "\n",
    "our_str_set = {\"Ryan\", \"Alex\", \"Beck\", \"Julia\", \"Julia\"}\n",
    "print(our_str_set)\n",
    "\n",
    "our_set2 = {1,1,2,3,4,5}\n",
    "\n",
    "our_dict = {\"num1\":1, \"num2\":2,\"num3\":3}\n",
    "print(our_set2)\n",
    "print(our_dict)"
   ]
  },
  {
   "cell_type": "code",
   "execution_count": null,
   "metadata": {},
   "outputs": [],
   "source": [
    "another_set = {1,5,2,4,10,20,5,2,6,6,7,3}\n",
    "print(another_set)"
   ]
  },
  {
   "cell_type": "markdown",
   "metadata": {},
   "source": [
    "##### .add()"
   ]
  },
  {
   "cell_type": "code",
   "execution_count": null,
   "metadata": {},
   "outputs": [],
   "source": [
    "# set.add()\n",
    "nums = {4,1,8,4,4,4,4}\n",
    "nums.add(22)\n",
    "print(nums)\n",
    "# nums.add(24)\n",
    "print(nums)"
   ]
  },
  {
   "cell_type": "markdown",
   "metadata": {},
   "source": [
    "##### .remove()"
   ]
  },
  {
   "cell_type": "code",
   "execution_count": null,
   "metadata": {},
   "outputs": [],
   "source": [
    "# # removes by value\n",
    "# # set.remove()\n",
    "# # nums.remove(56)\n",
    "print(nums)\n",
    "nums.remove(22)\n",
    "print(nums)\n",
    "# print(sorted(nums))\n"
   ]
  },
  {
   "cell_type": "markdown",
   "metadata": {},
   "source": [
    "##### .union() "
   ]
  },
  {
   "cell_type": "code",
   "execution_count": null,
   "metadata": {},
   "outputs": [],
   "source": [
    "# Returns a union of two sets, can also use '|' or set.union(set)\n",
    "# joins all numbers, gets rid of duplicates\n",
    "\n",
    "s1 = {1,2,3,4}\n",
    "s2 = {3,4,5,6}\n",
    "s3 = s1.union(s2)\n",
    "\n",
    "#ort\n",
    "s4 = s1 | s2\n",
    "\n",
    "print(s3)\n",
    "print(s4)"
   ]
  },
  {
   "cell_type": "markdown",
   "metadata": {},
   "source": [
    "##### .intersection()"
   ]
  },
  {
   "cell_type": "code",
   "execution_count": null,
   "metadata": {},
   "outputs": [],
   "source": [
    "# Returns an intersection of two sets, can also use '&'\n",
    "# only takes similar elements from both sets\n",
    "\n",
    "s1 = {1,2,3,4}\n",
    "s2 = {3,4,5,6}\n",
    "\n",
    "s3 = s1.intersection(s2)\n",
    "\n",
    "#or\n",
    "s4 = s2&s1\n",
    "\n",
    "print(s3)\n",
    "print(s4)"
   ]
  },
  {
   "cell_type": "markdown",
   "metadata": {},
   "source": [
    "##### .difference()"
   ]
  },
  {
   "cell_type": "code",
   "execution_count": null,
   "metadata": {},
   "outputs": [],
   "source": [
    "# Returns a set containing all the elements of invoking set that are not in the second set, can also use '-'\n",
    "# only takes values from the first set that are not in the second set\n",
    "# order matters\n",
    "\n",
    "s1 = {1,2,3,4}\n",
    "s2 = {3,4,5,6}\n",
    "\n",
    "s7 = s1 - s2\n",
    "\n",
    "#or\n",
    "s8 = s2.difference(s1)\n",
    "\n",
    "print(s1, s2)\n",
    "print(s7, s8)"
   ]
  },
  {
   "cell_type": "markdown",
   "metadata": {},
   "source": [
    "##### .clear()"
   ]
  },
  {
   "cell_type": "code",
   "execution_count": null,
   "metadata": {},
   "outputs": [],
   "source": [
    "# Empties the whole set\n",
    "# set.clear()\n",
    "\n",
    "s1 = {1,2,3,4}\n",
    "s2 = {3,4,5,6}\n",
    "\n",
    "s2.clear()\n",
    "print(s2)"
   ]
  },
  {
   "cell_type": "code",
   "execution_count": null,
   "metadata": {},
   "outputs": [],
   "source": []
  },
  {
   "cell_type": "markdown",
   "metadata": {},
   "source": [
    "##### Frozenset <br>\n",
    "<p>Frozen sets are immutable objects that only support methods and operators that produce a result without affecting the frozen set or sets to which they are applied.</p><br><b>Unique & Immutable</b>"
   ]
  },
  {
   "cell_type": "code",
   "execution_count": null,
   "metadata": {},
   "outputs": [],
   "source": [
    "# frozenset([])\n",
    "\n",
    "my_frozen_set = frozenset(s1)\n",
    "print(my_frozen_set)\n"
   ]
  },
  {
   "cell_type": "markdown",
   "metadata": {},
   "source": [
    "## Modules"
   ]
  },
  {
   "cell_type": "markdown",
   "metadata": {},
   "source": [
    "##### Importing Entire Modules"
   ]
  },
  {
   "cell_type": "code",
   "execution_count": null,
   "metadata": {},
   "outputs": [],
   "source": [
    "# import \n",
    "# or \n",
    "# from 'xxx' import *\n",
    "\n",
    "import math\n",
    "print(math.pi)\n",
    "print(math.ceil(math.pi))\n",
    "print(math.floor(math.pi))\n"
   ]
  },
  {
   "cell_type": "markdown",
   "metadata": {},
   "source": [
    "##### Importing Methods Only"
   ]
  },
  {
   "cell_type": "code",
   "execution_count": null,
   "metadata": {},
   "outputs": [],
   "source": [
    "# from 'xxx' import 'xxx'\n",
    "# from math import floor\n",
    "\n",
    "from math import floor, pi\n",
    "print(floor(pi))"
   ]
  },
  {
   "cell_type": "markdown",
   "metadata": {},
   "source": [
    "##### Using the 'as' Keyword"
   ]
  },
  {
   "cell_type": "code",
   "execution_count": null,
   "metadata": {},
   "outputs": [],
   "source": [
    "# from 'xxx' import 'xxx' as 'xxx' or import 'xxx' as 'xxx'\n",
    "# from math import floor as f\n",
    "\n",
    "from math import floor as f, pi as p\n",
    "print(f(p))"
   ]
  },
  {
   "cell_type": "markdown",
   "metadata": {},
   "source": [
    "##### Creating a Module"
   ]
  },
  {
   "cell_type": "code",
   "execution_count": null,
   "metadata": {},
   "outputs": [],
   "source": [
    "from module import printName as pn\n",
    "pn(\"Dylan\")"
   ]
  },
  {
   "cell_type": "markdown",
   "metadata": {},
   "source": [
    "# Exercises"
   ]
  },
  {
   "cell_type": "markdown",
   "metadata": {},
   "source": [
    "### 1) Build a Shopping Cart <br>\n",
    "<p><b>You can use either lists or dictionaries. The program should have the following capabilities:</b><br><br>\n",
    "1) Takes in input <br>\n",
    "2) Stores user input into a dictionary or list <br>\n",
    "3) The User can add or delete items <br>\n",
    "4) The User can see current shopping list <br>\n",
    "5) The program Loops until user 'quits' <br>\n",
    "6) Upon quiting the program, print out all items in the user's list <br>\n",
    "</p>"
   ]
  },
  {
   "cell_type": "code",
   "execution_count": null,
   "metadata": {},
   "outputs": [],
   "source": [
    "from IPython.display import clear_output\n",
    "\n",
    "# Ask the user four bits of input: Do you want to : Show/Add/Delete or Quit?\n",
    "\n",
    "def shop_cart():\n",
    "    cart = []\n",
    "    \n",
    "    while True:\n",
    "        question = input('Would you like to \"add\", \"remove\", or \"view\" your shopping list? type \"quit\" to quit ')\n",
    "        clear_output()\n",
    "        while question.lower() == \"add\":\n",
    "            item = input('What would you like to add? Press \"q\" to go back to home ')\n",
    "            clear_output()\n",
    "            cart.append(item)\n",
    "            if item.lower() == \"q\":\n",
    "                cart.pop()\n",
    "                break\n",
    "        if question.lower() == \"remove\":\n",
    "            item = input('What would you like to remove from the list?')\n",
    "            cart.remove(item)\n",
    "        elif question.lower() == \"view\":\n",
    "            print(cart)\n",
    "        elif question.lower() == \"quit\":\n",
    "            print(\"Here is your list, thank you goodbye\")\n",
    "            print(cart)\n",
    "            break\n",
    "        else:\n",
    "            print(\"Please enter a valid selection\")\n",
    "            \n",
    "\n",
    "shop_cart()"
   ]
  },
  {
   "cell_type": "markdown",
   "metadata": {},
   "source": [
    "### 2) Create a Module in VS Code and Import It into jupyter notebook <br>\n",
    "<p><b>Module should have the following capabilities:</b><br><br>\n",
    "1) Has a function to calculate the square footage of a house <br>\n",
    "    <b>Reminder of Formula: Length X Width == Area<br>\n",
    "        <hr>\n",
    "2) Has a function to calculate the circumference of a circle <br><br>\n",
    "<b>Program in Jupyter Notebook should take in user input and use imported functions to calculate a circle's circumference or a houses square footage</b>\n",
    "</p>"
   ]
  },
  {
   "cell_type": "code",
   "execution_count": 5,
   "metadata": {},
   "outputs": [
    {
     "name": "stdout",
     "output_type": "stream",
     "text": [
      "What is the length of your house in feet ?30\n",
      "What is the width of your house in feet ?20\n",
      "Your house is 600 square feet\n",
      "What is the radius in inches?15\n",
      "The cirucumference of this circle is 94.24777960769379 inches.\n"
     ]
    },
    {
     "data": {
      "text/plain": [
       "94.24777960769379"
      ]
     },
     "execution_count": 5,
     "metadata": {},
     "output_type": "execute_result"
    }
   ],
   "source": [
    "from module_2 import square_footage as sq, circumference as ci\n",
    "sq()\n",
    "ci()"
   ]
  }
 ],
 "metadata": {
  "kernelspec": {
   "display_name": "Python 3 (ipykernel)",
   "language": "python",
   "name": "python3"
  },
  "language_info": {
   "codemirror_mode": {
    "name": "ipython",
    "version": 3
   },
   "file_extension": ".py",
   "mimetype": "text/x-python",
   "name": "python",
   "nbconvert_exporter": "python",
   "pygments_lexer": "ipython3",
   "version": "3.9.12"
  }
 },
 "nbformat": 4,
 "nbformat_minor": 2
}
